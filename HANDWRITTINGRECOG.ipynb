{
  "nbformat": 4,
  "nbformat_minor": 0,
  "metadata": {
    "colab": {
      "name": "HANDWRITTINGRECOG.ipynb",
      "version": "0.3.2",
      "provenance": [],
      "include_colab_link": true
    }
  },
  "cells": [
    {
      "cell_type": "markdown",
      "metadata": {
        "id": "view-in-github",
        "colab_type": "text"
      },
      "source": [
        "[View in Colaboratory](https://colab.research.google.com/github/vipashakaul/website/blob/master/HANDWRITTINGRECOG.ipynb)"
      ]
    },
    {
      "metadata": {
        "id": "kjOEjWI-yFX4",
        "colab_type": "code",
        "colab": {
          "base_uri": "https://localhost:8080/",
          "height": 331
        },
        "outputId": "83bf4a27-0348-4505-c402-18df015d1902"
      },
      "cell_type": "code",
      "source": [
        "import tensorflow as tf\n",
        "\n",
        "from tensorflow.examples.tutorials.mnist import input_data\n",
        "mnist = input_data.read_data_sets(\"MNIST_data/\", one_hot=True)\n",
        "\n",
        "X = tf.placeholder(\"float\", [None, 784])\n",
        "\n",
        "Y = tf.placeholder(\"float\", [None, 10])\n",
        "\n",
        "W1 = tf.Variable(tf.truncated_normal([28*28, 200] ,stddev=0.1))\n",
        "B1 = tf.Variable(tf.zeros([200]))\n",
        "W2 = tf.Variable(tf.truncated_normal([200, 10], stddev=0.1))\n",
        "B2 = tf.Variable(tf.zeros([10]))\n",
        "XX = tf.reshape(X, [-1, 28*28])\n",
        "Y1 = tf.nn.relu(tf.matmul(XX, W1) + B1)\n",
        "\n",
        "Ylogits = tf.matmul(Y1, W2) + B2\n",
        "Y2 = tf.nn.softmax(Ylogits)\n",
        "\n",
        "diff= tf.nn.softmax_cross_entropy_with_logits(logits=Ylogits, labels=Y)\n",
        "diff = tf.reduce_mean(diff)*100\n",
        "eta = tf.constant(0.001)\n",
        "optimizer = tf.train.GradientDescentOptimizer(eta)\n",
        "train_step = optimizer.minimize(diff)\n",
        "\n",
        "\n",
        "acct_mat = tf.equal(tf.argmax(Y2, 1), tf.argmax(Y, 1))\n",
        "acct_res = tf.reduce_sum(tf.cast(acct_mat, tf.float32))\n",
        "\n",
        "sess = tf.InteractiveSession()\n",
        "sess.run(tf.global_variables_initializer())\n",
        "\n",
        "for i in range(10000):\n",
        "    batch_xs, batch_ys = mnist.train.next_batch(10)\n",
        "    sess.run(train_step, {X: batch_xs, Y : batch_ys})\n",
        "    if i % 1000 == 0:\n",
        "        res = sess.run(acct_res, {X: mnist.test.images[:1000], Y : mnist.test.labels[:1000]})\n",
        "        print(res)"
      ],
      "execution_count": 3,
      "outputs": [
        {
          "output_type": "stream",
          "text": [
            "Extracting MNIST_data/train-images-idx3-ubyte.gz\n",
            "Extracting MNIST_data/train-labels-idx1-ubyte.gz\n",
            "Extracting MNIST_data/t10k-images-idx3-ubyte.gz\n",
            "Extracting MNIST_data/t10k-labels-idx1-ubyte.gz\n"
          ],
          "name": "stdout"
        },
        {
          "output_type": "stream",
          "text": [
            "/usr/local/lib/python2.7/dist-packages/tensorflow/python/client/session.py:1714: UserWarning: An interactive session is already active. This can cause out-of-memory errors in some cases. You must explicitly call `InteractiveSession.close()` to release resources held by the other session(s).\n",
            "  warnings.warn('An interactive session is already active. This can '\n"
          ],
          "name": "stderr"
        },
        {
          "output_type": "stream",
          "text": [
            "128.0\n",
            "916.0\n",
            "949.0\n",
            "949.0\n",
            "955.0\n",
            "963.0\n",
            "961.0\n",
            "968.0\n",
            "964.0\n",
            "975.0\n"
          ],
          "name": "stdout"
        }
      ]
    },
    {
      "metadata": {
        "id": "Yt2CWeYeyRhk",
        "colab_type": "code",
        "colab": {}
      },
      "cell_type": "code",
      "source": [
        ""
      ],
      "execution_count": 0,
      "outputs": []
    }
  ]
}