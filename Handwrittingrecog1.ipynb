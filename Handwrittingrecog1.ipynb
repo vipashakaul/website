{
  "nbformat": 4,
  "nbformat_minor": 0,
  "metadata": {
    "colab": {
      "name": "Handwrittingrecog1.ipynb",
      "version": "0.3.2",
      "provenance": [],
      "include_colab_link": true
    },
    "kernelspec": {
      "name": "python3",
      "display_name": "Python 3"
    }
  },
  "cells": [
    {
      "cell_type": "markdown",
      "metadata": {
        "id": "view-in-github",
        "colab_type": "text"
      },
      "source": [
        "[View in Colaboratory](https://colab.research.google.com/github/vipashakaul/website/blob/master/Handwrittingrecog1.ipynb)"
      ]
    },
    {
      "metadata": {
        "id": "1HR1lYFPy6q5",
        "colab_type": "code",
        "colab": {
          "base_uri": "https://localhost:8080/",
          "height": 331
        },
        "outputId": "9d061a81-4830-4159-b709-8f168b5df5d6"
      },
      "cell_type": "code",
      "source": [
        "import tensorflow as tf\n",
        "\n",
        "from tensorflow.examples.tutorials.mnist import input_data\n",
        "mnist = input_data.read_data_sets(\"MNIST_data/\", one_hot=True)\n",
        "\n",
        "X = tf.placeholder(\"float\", [None, 784])\n",
        "\n",
        "Y = tf.placeholder(\"float\", [None, 10])\n",
        "\n",
        "W1 = tf.Variable(tf.truncated_normal([28*28, 200] ,stddev=0.1))\n",
        "B1 = tf.Variable(tf.zeros([200]))\n",
        "W2 = tf.Variable(tf.truncated_normal([200, 10], stddev=0.1))\n",
        "B2 = tf.Variable(tf.zeros([10]))\n",
        "XX = tf.reshape(X, [-1, 28*28])\n",
        "Y1 = tf.nn.relu(tf.matmul(XX, W1) + B1)\n",
        "\n",
        "Ylogits = tf.matmul(Y1, W2) + B2\n",
        "Y2 = tf.nn.softmax(Ylogits)\n",
        "\n",
        "diff= tf.nn.softmax_cross_entropy_with_logits(logits=Ylogits, labels=Y)\n",
        "diff = tf.reduce_mean(diff)*100\n",
        "eta = tf.constant(0.001)\n",
        "train_step = tf.train.AdamOptimizer(eta).minimize(diff)\n",
        "acct_mat = tf.equal(tf.argmax(Y2, 1), tf.argmax(Y, 1))\n",
        "acct_res = tf.reduce_sum(tf.cast(acct_mat, tf.float32))\n",
        "\n",
        "sess = tf.InteractiveSession()\n",
        "sess.run(tf.global_variables_initializer())\n",
        "\n",
        "for i in range(10000):\n",
        "    batch_xs, batch_ys = mnist.train.next_batch(10)\n",
        "    sess.run(train_step, {X: batch_xs, Y : batch_ys})\n",
        "    if i % 1000 == 0:\n",
        "        res = sess.run(acct_res, {X: mnist.test.images[:1000], Y : mnist.test.labels[:1000]})\n",
        "        print(res)"
      ],
      "execution_count": 39,
      "outputs": [
        {
          "output_type": "stream",
          "text": [
            "Extracting MNIST_data/train-images-idx3-ubyte.gz\n",
            "Extracting MNIST_data/train-labels-idx1-ubyte.gz\n",
            "Extracting MNIST_data/t10k-images-idx3-ubyte.gz\n",
            "Extracting MNIST_data/t10k-labels-idx1-ubyte.gz\n"
          ],
          "name": "stdout"
        },
        {
          "output_type": "stream",
          "text": [
            "/usr/local/lib/python3.6/dist-packages/tensorflow/python/client/session.py:1714: UserWarning: An interactive session is already active. This can cause out-of-memory errors in some cases. You must explicitly call `InteractiveSession.close()` to release resources held by the other session(s).\n",
            "  warnings.warn('An interactive session is already active. This can '\n"
          ],
          "name": "stderr"
        },
        {
          "output_type": "stream",
          "text": [
            "95.0\n",
            "919.0\n",
            "947.0\n",
            "956.0\n",
            "964.0\n",
            "967.0\n",
            "973.0\n",
            "969.0\n",
            "970.0\n",
            "974.0\n"
          ],
          "name": "stdout"
        }
      ]
    },
    {
      "metadata": {
        "id": "lkNJHifXy8Kh",
        "colab_type": "code",
        "colab": {
          "base_uri": "https://localhost:8080/",
          "height": 331
        },
        "outputId": "7898f971-85c8-4bd7-d7d6-a4e30b42a5bb"
      },
      "cell_type": "code",
      "source": [
        "import tensorflow as tf\n",
        "\n",
        "from tensorflow.examples.tutorials.mnist import input_data\n",
        "mnist = input_data.read_data_sets(\"MNIST_data/\", one_hot=True)\n",
        "\n",
        "X = tf.placeholder(\"float\", [None, 784])\n",
        "\n",
        "Y = tf.placeholder(\"float\", [None, 10])\n",
        "\n",
        "W1 = tf.Variable(tf.truncated_normal([28*28, 200] ,stddev=0.1))\n",
        "B1 = tf.Variable(tf.zeros([200]))\n",
        "W2 = tf.Variable(tf.truncated_normal([200, 10], stddev=0.1))\n",
        "B2 = tf.Variable(tf.zeros([10]))\n",
        "XX = tf.reshape(X, [-1, 28*28])\n",
        "Y1 = tf.nn.relu(tf.matmul(XX, W1) + B1)\n",
        "\n",
        "Ylogits = tf.matmul(Y1, W2) + B2\n",
        "Y2 = tf.nn.softmax(Ylogits)\n",
        "global_step = tf.Variable(0, trainable=False)\n",
        "diff= tf.nn.softmax_cross_entropy_with_logits(logits=Ylogits, labels=Y)\n",
        "diff = tf.reduce_mean(diff)*100\n",
        "step = 100\n",
        "for i in range(step,0):\n",
        "  lr = 0.0001 + tf.train.exponential_decay(0.001, step, 2000, 1/math.e)\n",
        "train_step = tf.train.AdamOptimizer(lr).minimize(diff)\n",
        "acct_mat = tf.equal(tf.argmax(Y2, 1), tf.argmax(Y, 1))\n",
        "acct_res = tf.reduce_sum(tf.cast(acct_mat, tf.float32))\n",
        "\n",
        "sess = tf.InteractiveSession()\n",
        "sess.run(tf.global_variables_initializer())\n",
        "\n",
        "for i in range(10000):\n",
        "    batch_xs, batch_ys = mnist.train.next_batch(10)\n",
        "    sess.run(train_step, {X: batch_xs, Y : batch_ys})\n",
        "    if i % 1000 == 0:\n",
        "        res = sess.run(acct_res, {X: mnist.test.images[:1000], Y : mnist.test.labels[:1000]})\n",
        "        print(res)"
      ],
      "execution_count": 57,
      "outputs": [
        {
          "output_type": "stream",
          "text": [
            "Extracting MNIST_data/train-images-idx3-ubyte.gz\n",
            "Extracting MNIST_data/train-labels-idx1-ubyte.gz\n",
            "Extracting MNIST_data/t10k-images-idx3-ubyte.gz\n",
            "Extracting MNIST_data/t10k-labels-idx1-ubyte.gz\n"
          ],
          "name": "stdout"
        },
        {
          "output_type": "stream",
          "text": [
            "/usr/local/lib/python3.6/dist-packages/tensorflow/python/client/session.py:1714: UserWarning: An interactive session is already active. This can cause out-of-memory errors in some cases. You must explicitly call `InteractiveSession.close()` to release resources held by the other session(s).\n",
            "  warnings.warn('An interactive session is already active. This can '\n"
          ],
          "name": "stderr"
        },
        {
          "output_type": "stream",
          "text": [
            "131.0\n",
            "919.0\n",
            "943.0\n",
            "957.0\n",
            "960.0\n",
            "952.0\n",
            "966.0\n",
            "960.0\n",
            "958.0\n",
            "964.0\n"
          ],
          "name": "stdout"
        }
      ]
    },
    {
      "metadata": {
        "id": "-H-Udx3j2z-M",
        "colab_type": "code",
        "colab": {}
      },
      "cell_type": "code",
      "source": [
        ""
      ],
      "execution_count": 0,
      "outputs": []
    }
  ]
}